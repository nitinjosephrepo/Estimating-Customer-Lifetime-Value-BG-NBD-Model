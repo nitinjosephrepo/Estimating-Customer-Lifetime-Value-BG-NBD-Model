{
 "cells": [
  {
   "cell_type": "markdown",
   "id": "c34b77ae",
   "metadata": {},
   "source": [
    "### Estimating Customer Life Time Value. \n",
    "In a contractual churn setting, like a mobile phone network or a broadband provider, its realatively straightforward to compute Life Time Value or if the customer are 'Alive' as its known in the world of CLV. In non-contractual churn settings, like most ecommerce businesses, the time of a customer’s “death” isn’t directly observed, so you never really know which ones are alive or dead.\n",
    "\n",
    "Customers often vary dramatically in their behaviour - some order weekly and others order annually. There’s no such thing as “typical customer.” If a customer normally orders from you every week and hasn’t shopped for a year, do you really think they’re still alive?\n",
    "\n",
    "#### Calculating CLV\n",
    "\n",
    "Here we’re going to use - the Beta Geometric Negative Binomial Distribution or BG/NBD model - to predict the following:\n",
    "\n",
    "    - Which customers are still customers\n",
    "    - Who will order again in the next period\n",
    "    - The number of orders each customer will place\n",
    "    - The average order value of each customer’s order\n",
    "    - The total amount each customer will generate for the business\n",
    "    \n",
    "#### Intution Behind BG/NBD Model\n",
    "\n",
    "https://lifetimes.readthedocs.io/en/latest/Quickstart.html#estimating-customer-lifetime-value-using-the-gamma-gamma-model\n",
    "\n",
    "Pete Fader's publications\n",
    "https://scholar.google.com/citations?user=NYOYpwQAAAAJ\n"
   ]
  },
  {
   "cell_type": "code",
   "execution_count": 1,
   "id": "ee6828dd",
   "metadata": {},
   "outputs": [],
   "source": [
    "#!pip install lifetimes\n",
    "import pandas as pd\n",
    "import numpy as np\n",
    "import seaborn as sns"
   ]
  },
  {
   "cell_type": "code",
   "execution_count": 2,
   "id": "5720f4e7",
   "metadata": {},
   "outputs": [],
   "source": [
    "pd.set_option('display.float_format', lambda x: '%.3f' % x)"
   ]
  },
  {
   "cell_type": "code",
   "execution_count": 3,
   "id": "74c072ad",
   "metadata": {},
   "outputs": [],
   "source": [
    "df = pd.read_csv('Segmentation.csv')"
   ]
  },
  {
   "cell_type": "code",
   "execution_count": 4,
   "id": "df76e9af",
   "metadata": {},
   "outputs": [
    {
     "data": {
      "text/html": [
       "<div>\n",
       "<style scoped>\n",
       "    .dataframe tbody tr th:only-of-type {\n",
       "        vertical-align: middle;\n",
       "    }\n",
       "\n",
       "    .dataframe tbody tr th {\n",
       "        vertical-align: top;\n",
       "    }\n",
       "\n",
       "    .dataframe thead th {\n",
       "        text-align: right;\n",
       "    }\n",
       "</style>\n",
       "<table border=\"1\" class=\"dataframe\">\n",
       "  <thead>\n",
       "    <tr style=\"text-align: right;\">\n",
       "      <th></th>\n",
       "      <th>CustomerID</th>\n",
       "      <th>Recency</th>\n",
       "      <th>Tenure</th>\n",
       "      <th>Frequency</th>\n",
       "      <th>MonetaryValue</th>\n",
       "      <th>Segment</th>\n",
       "    </tr>\n",
       "  </thead>\n",
       "  <tbody>\n",
       "    <tr>\n",
       "      <th>0</th>\n",
       "      <td>12346</td>\n",
       "      <td>326</td>\n",
       "      <td>326</td>\n",
       "      <td>2</td>\n",
       "      <td>0.000</td>\n",
       "      <td>Fence Sitter</td>\n",
       "    </tr>\n",
       "    <tr>\n",
       "      <th>1</th>\n",
       "      <td>12349</td>\n",
       "      <td>19</td>\n",
       "      <td>19</td>\n",
       "      <td>73</td>\n",
       "      <td>1757.550</td>\n",
       "      <td>Potential</td>\n",
       "    </tr>\n",
       "    <tr>\n",
       "      <th>2</th>\n",
       "      <td>12350</td>\n",
       "      <td>310</td>\n",
       "      <td>310</td>\n",
       "      <td>17</td>\n",
       "      <td>334.400</td>\n",
       "      <td>Fence Sitter</td>\n",
       "    </tr>\n",
       "    <tr>\n",
       "      <th>3</th>\n",
       "      <td>12353</td>\n",
       "      <td>204</td>\n",
       "      <td>204</td>\n",
       "      <td>4</td>\n",
       "      <td>89.000</td>\n",
       "      <td>Fence Sitter</td>\n",
       "    </tr>\n",
       "    <tr>\n",
       "      <th>4</th>\n",
       "      <td>12354</td>\n",
       "      <td>232</td>\n",
       "      <td>232</td>\n",
       "      <td>58</td>\n",
       "      <td>1079.400</td>\n",
       "      <td>Fence Sitter</td>\n",
       "    </tr>\n",
       "  </tbody>\n",
       "</table>\n",
       "</div>"
      ],
      "text/plain": [
       "   CustomerID  Recency  Tenure  Frequency  MonetaryValue       Segment\n",
       "0       12346      326     326          2          0.000  Fence Sitter\n",
       "1       12349       19      19         73       1757.550     Potential\n",
       "2       12350      310     310         17        334.400  Fence Sitter\n",
       "3       12353      204     204          4         89.000  Fence Sitter\n",
       "4       12354      232     232         58       1079.400  Fence Sitter"
      ]
     },
     "execution_count": 4,
     "metadata": {},
     "output_type": "execute_result"
    }
   ],
   "source": [
    "#Import Dataset that is already transformed into RFM as the model expects. \n",
    "df.head()"
   ]
  },
  {
   "cell_type": "code",
   "execution_count": 5,
   "id": "09d2f735",
   "metadata": {},
   "outputs": [
    {
     "data": {
      "text/plain": [
       "(3046, 6)"
      ]
     },
     "execution_count": 5,
     "metadata": {},
     "output_type": "execute_result"
    }
   ],
   "source": [
    "df.shape"
   ]
  },
  {
   "cell_type": "code",
   "execution_count": 6,
   "id": "e6dc74f4",
   "metadata": {},
   "outputs": [],
   "source": [
    "#'Segement' is not needed by model so we drop it\n",
    "data = df.drop(['Segment'],axis=1) "
   ]
  },
  {
   "cell_type": "code",
   "execution_count": 7,
   "id": "07f66680",
   "metadata": {},
   "outputs": [
    {
     "data": {
      "text/html": [
       "<div>\n",
       "<style scoped>\n",
       "    .dataframe tbody tr th:only-of-type {\n",
       "        vertical-align: middle;\n",
       "    }\n",
       "\n",
       "    .dataframe tbody tr th {\n",
       "        vertical-align: top;\n",
       "    }\n",
       "\n",
       "    .dataframe thead th {\n",
       "        text-align: right;\n",
       "    }\n",
       "</style>\n",
       "<table border=\"1\" class=\"dataframe\">\n",
       "  <thead>\n",
       "    <tr style=\"text-align: right;\">\n",
       "      <th></th>\n",
       "      <th>CustomerID</th>\n",
       "      <th>Recency</th>\n",
       "      <th>Tenure</th>\n",
       "      <th>Frequency</th>\n",
       "      <th>MonetaryValue</th>\n",
       "    </tr>\n",
       "  </thead>\n",
       "  <tbody>\n",
       "    <tr>\n",
       "      <th>0</th>\n",
       "      <td>12346</td>\n",
       "      <td>326</td>\n",
       "      <td>326</td>\n",
       "      <td>2</td>\n",
       "      <td>0.000</td>\n",
       "    </tr>\n",
       "    <tr>\n",
       "      <th>1</th>\n",
       "      <td>12349</td>\n",
       "      <td>19</td>\n",
       "      <td>19</td>\n",
       "      <td>73</td>\n",
       "      <td>1757.550</td>\n",
       "    </tr>\n",
       "    <tr>\n",
       "      <th>2</th>\n",
       "      <td>12350</td>\n",
       "      <td>310</td>\n",
       "      <td>310</td>\n",
       "      <td>17</td>\n",
       "      <td>334.400</td>\n",
       "    </tr>\n",
       "    <tr>\n",
       "      <th>3</th>\n",
       "      <td>12353</td>\n",
       "      <td>204</td>\n",
       "      <td>204</td>\n",
       "      <td>4</td>\n",
       "      <td>89.000</td>\n",
       "    </tr>\n",
       "    <tr>\n",
       "      <th>4</th>\n",
       "      <td>12354</td>\n",
       "      <td>232</td>\n",
       "      <td>232</td>\n",
       "      <td>58</td>\n",
       "      <td>1079.400</td>\n",
       "    </tr>\n",
       "  </tbody>\n",
       "</table>\n",
       "</div>"
      ],
      "text/plain": [
       "   CustomerID  Recency  Tenure  Frequency  MonetaryValue\n",
       "0       12346      326     326          2          0.000\n",
       "1       12349       19      19         73       1757.550\n",
       "2       12350      310     310         17        334.400\n",
       "3       12353      204     204          4         89.000\n",
       "4       12354      232     232         58       1079.400"
      ]
     },
     "execution_count": 7,
     "metadata": {},
     "output_type": "execute_result"
    }
   ],
   "source": [
    "data.head()"
   ]
  },
  {
   "cell_type": "code",
   "execution_count": 8,
   "id": "d535b2bd",
   "metadata": {},
   "outputs": [
    {
     "data": {
      "text/plain": [
       "(48, 5)"
      ]
     },
     "execution_count": 8,
     "metadata": {},
     "output_type": "execute_result"
    }
   ],
   "source": [
    "# We look at MonetaryValue that is less then or equal to Zero\n",
    "data[data['MonetaryValue']<=0].shape"
   ]
  },
  {
   "cell_type": "code",
   "execution_count": 9,
   "id": "104607ad",
   "metadata": {},
   "outputs": [],
   "source": [
    "#Create a mask for negative values\n",
    "negative_mask = data['MonetaryValue']<=0"
   ]
  },
  {
   "cell_type": "code",
   "execution_count": 10,
   "id": "144c5c91",
   "metadata": {},
   "outputs": [],
   "source": [
    "#Drop the negative values\n",
    "data_cleaned = data.loc[~negative_mask]"
   ]
  },
  {
   "cell_type": "code",
   "execution_count": 11,
   "id": "f9ead11e",
   "metadata": {},
   "outputs": [
    {
     "data": {
      "text/html": [
       "<div>\n",
       "<style scoped>\n",
       "    .dataframe tbody tr th:only-of-type {\n",
       "        vertical-align: middle;\n",
       "    }\n",
       "\n",
       "    .dataframe tbody tr th {\n",
       "        vertical-align: top;\n",
       "    }\n",
       "\n",
       "    .dataframe thead th {\n",
       "        text-align: right;\n",
       "    }\n",
       "</style>\n",
       "<table border=\"1\" class=\"dataframe\">\n",
       "  <thead>\n",
       "    <tr style=\"text-align: right;\">\n",
       "      <th></th>\n",
       "      <th>CustomerID</th>\n",
       "      <th>Recency</th>\n",
       "      <th>Tenure</th>\n",
       "      <th>Frequency</th>\n",
       "      <th>MonetaryValue</th>\n",
       "    </tr>\n",
       "  </thead>\n",
       "  <tbody>\n",
       "    <tr>\n",
       "      <th>1</th>\n",
       "      <td>12349</td>\n",
       "      <td>19</td>\n",
       "      <td>19</td>\n",
       "      <td>73</td>\n",
       "      <td>1757.550</td>\n",
       "    </tr>\n",
       "    <tr>\n",
       "      <th>2</th>\n",
       "      <td>12350</td>\n",
       "      <td>310</td>\n",
       "      <td>310</td>\n",
       "      <td>17</td>\n",
       "      <td>334.400</td>\n",
       "    </tr>\n",
       "    <tr>\n",
       "      <th>3</th>\n",
       "      <td>12353</td>\n",
       "      <td>204</td>\n",
       "      <td>204</td>\n",
       "      <td>4</td>\n",
       "      <td>89.000</td>\n",
       "    </tr>\n",
       "    <tr>\n",
       "      <th>4</th>\n",
       "      <td>12354</td>\n",
       "      <td>232</td>\n",
       "      <td>232</td>\n",
       "      <td>58</td>\n",
       "      <td>1079.400</td>\n",
       "    </tr>\n",
       "    <tr>\n",
       "      <th>5</th>\n",
       "      <td>12355</td>\n",
       "      <td>214</td>\n",
       "      <td>214</td>\n",
       "      <td>13</td>\n",
       "      <td>459.400</td>\n",
       "    </tr>\n",
       "    <tr>\n",
       "      <th>6</th>\n",
       "      <td>12357</td>\n",
       "      <td>33</td>\n",
       "      <td>33</td>\n",
       "      <td>131</td>\n",
       "      <td>6207.670</td>\n",
       "    </tr>\n",
       "    <tr>\n",
       "      <th>7</th>\n",
       "      <td>12358</td>\n",
       "      <td>2</td>\n",
       "      <td>151</td>\n",
       "      <td>19</td>\n",
       "      <td>1168.060</td>\n",
       "    </tr>\n",
       "  </tbody>\n",
       "</table>\n",
       "</div>"
      ],
      "text/plain": [
       "   CustomerID  Recency  Tenure  Frequency  MonetaryValue\n",
       "1       12349       19      19         73       1757.550\n",
       "2       12350      310     310         17        334.400\n",
       "3       12353      204     204          4         89.000\n",
       "4       12354      232     232         58       1079.400\n",
       "5       12355      214     214         13        459.400\n",
       "6       12357       33      33        131       6207.670\n",
       "7       12358        2     151         19       1168.060"
      ]
     },
     "execution_count": 11,
     "metadata": {},
     "output_type": "execute_result"
    }
   ],
   "source": [
    "#Cleaned Dataset\n",
    "data_cleaned.head(7)"
   ]
  },
  {
   "cell_type": "code",
   "execution_count": 12,
   "id": "fedda1d6",
   "metadata": {},
   "outputs": [
    {
     "data": {
      "text/plain": [
       "(2998, 5)"
      ]
     },
     "execution_count": 12,
     "metadata": {},
     "output_type": "execute_result"
    }
   ],
   "source": [
    "data_cleaned.shape"
   ]
  },
  {
   "cell_type": "code",
   "execution_count": 13,
   "id": "b78f26b1",
   "metadata": {},
   "outputs": [],
   "source": [
    "%matplotlib inline\n",
    "from matplotlib import pyplot as plt"
   ]
  },
  {
   "cell_type": "code",
   "execution_count": 14,
   "id": "0726f966",
   "metadata": {},
   "outputs": [
    {
     "data": {
      "text/plain": [
       "59.238825883922615"
      ]
     },
     "execution_count": 14,
     "metadata": {},
     "output_type": "execute_result"
    }
   ],
   "source": [
    "data_cleaned.Frequency.mean()"
   ]
  },
  {
   "cell_type": "code",
   "execution_count": 15,
   "id": "bdec8bc4",
   "metadata": {},
   "outputs": [
    {
     "data": {
      "text/plain": [
       "CustomerID      15634.980\n",
       "Recency           114.352\n",
       "Tenure            186.520\n",
       "Frequency          59.239\n",
       "MonetaryValue    1095.920\n",
       "dtype: float64"
      ]
     },
     "execution_count": 15,
     "metadata": {},
     "output_type": "execute_result"
    }
   ],
   "source": [
    "data_cleaned.mean()"
   ]
  },
  {
   "cell_type": "code",
   "execution_count": 16,
   "id": "38a4fc69",
   "metadata": {},
   "outputs": [
    {
     "data": {
      "image/png": "[encoded data removed]",
      "text/plain": [
       "<Figure size 432x288 with 2 Axes>"
      ]
     },
     "metadata": {
      "needs_background": "light"
     },
     "output_type": "display_data"
    },
    {
     "data": {
      "text/plain": [
       "{'corr':                CustomerID  Recency  Tenure  Frequency  MonetaryValue\n",
       " CustomerID          1.000   -0.119   0.205      0.128          0.076\n",
       " Recency            -0.119    1.000   0.587     -0.164         -0.091\n",
       " Tenure              0.205    0.587   1.000      0.130          0.103\n",
       " Frequency           0.128   -0.164   0.130      1.000          0.243\n",
       " MonetaryValue       0.076   -0.091   0.103      0.243          1.000,\n",
       " 'ax': <Axes: >}"
      ]
     },
     "execution_count": 16,
     "metadata": {},
     "output_type": "execute_result"
    }
   ],
   "source": [
    "#Check the Correlation between RFM values \n",
    "from dython.nominal import associations\n",
    "associations(data_cleaned)"
   ]
  },
  {
   "cell_type": "markdown",
   "id": "2fda1769",
   "metadata": {},
   "source": [
    "#### Relax the assumption that Monetary Value & Purchase Frequency are not Correlated"
   ]
  },
  {
   "cell_type": "markdown",
   "id": "cc1524fe",
   "metadata": {},
   "source": [
    "The Gamma-Gamma submodel, assumes that there is no relationship between the monetary value and the purchase frequency. In practice we need to check whether the Pearson correlation between the two vectors is close to 0 in order to use this model."
   ]
  },
  {
   "cell_type": "code",
   "execution_count": 17,
   "id": "ea180a5a",
   "metadata": {},
   "outputs": [
    {
     "data": {
      "text/plain": [
       "SignificanceResult(statistic=-0.38195099313703895, pvalue=9.796771596195511e-105)"
      ]
     },
     "execution_count": 17,
     "metadata": {},
     "output_type": "execute_result"
    }
   ],
   "source": [
    "#Our Dataset meets the criteria, p-value is extremely small\n",
    "import scipy\n",
    "\n",
    "scipy.stats.spearmanr(data_cleaned.Recency, data_cleaned.MonetaryValue)"
   ]
  },
  {
   "cell_type": "code",
   "execution_count": 18,
   "id": "dcc65a9f",
   "metadata": {},
   "outputs": [
    {
     "data": {
      "text/plain": [
       "SignificanceResult(statistic=-0.4220920147437886, pvalue=7.719285272847262e-130)"
      ]
     },
     "execution_count": 18,
     "metadata": {},
     "output_type": "execute_result"
    }
   ],
   "source": [
    "scipy.stats.spearmanr(data_cleaned.Recency, data_cleaned.MonetaryValue * data_cleaned.Frequency)"
   ]
  },
  {
   "cell_type": "code",
   "execution_count": 19,
   "id": "9dbe3b13",
   "metadata": {},
   "outputs": [
    {
     "data": {
      "text/plain": [
       "<lifetimes.BetaGeoFitter: fitted with 2998 subjects, a: 10.04, alpha: 0.03, b: 1128.18, r: 0.25>"
      ]
     },
     "execution_count": 19,
     "metadata": {},
     "output_type": "execute_result"
    }
   ],
   "source": [
    "#Import GammaGammaFitter, BetaGeoFitter\n",
    "from lifetimes import GammaGammaFitter, BetaGeoFitter\n",
    "bgf = BetaGeoFitter(penalizer_coef=0.0)\n",
    "bgf.fit(data_cleaned['Frequency'], data_cleaned['Recency'], data_cleaned['Tenure'])"
   ]
  },
  {
   "cell_type": "code",
   "execution_count": 20,
   "id": "74c8b354",
   "metadata": {
    "scrolled": true
   },
   "outputs": [
    {
     "name": "stderr",
     "output_type": "stream",
     "text": [
      "/Users/nitinjoseph/opt/anaconda3/lib/python3.9/site-packages/lifetimes/fitters/beta_geo_fitter.py:256: RuntimeWarning: overflow encountered in scalar power\n",
      "  denominator = 1 + (x > 0) * (a / (b + x - 1)) * ((alpha + T) / (alpha + recency)) ** (r + x)\n"
     ]
    },
    {
     "data": {
      "text/plain": [
       "<Axes: title={'center': 'Expected Number of Future Purchases for 1 Unit of Time,\\nby Frequency and Recency of a Customer'}, xlabel=\"Customer's Historical Frequency\", ylabel=\"Customer's Recency\">"
      ]
     },
     "execution_count": 20,
     "metadata": {},
     "output_type": "execute_result"
    },
    {
     "data": {
      "image/png": "[encoded data removed]",
      "text/plain": [
       "<Figure size 432x288 with 2 Axes>"
      ]
     },
     "metadata": {
      "needs_background": "light"
     },
     "output_type": "display_data"
    }
   ],
   "source": [
    "from lifetimes.plotting import plot_frequency_recency_matrix\n",
    "\n",
    "plot_frequency_recency_matrix(bgf)"
   ]
  },
  {
   "cell_type": "code",
   "execution_count": 21,
   "id": "03e15d7f",
   "metadata": {},
   "outputs": [
    {
     "data": {
      "text/plain": [
       "<Axes: title={'center': 'Probability Customer is Alive,\\nby Frequency and Recency of a Customer'}, xlabel=\"Customer's Historical Frequency\", ylabel=\"Customer's Recency\">"
      ]
     },
     "execution_count": 21,
     "metadata": {},
     "output_type": "execute_result"
    },
    {
     "data": {
      "image/png": "[encoded data removed]",
      "text/plain": [
       "<Figure size 432x288 with 2 Axes>"
      ]
     },
     "metadata": {
      "needs_background": "light"
     },
     "output_type": "display_data"
    }
   ],
   "source": [
    "from lifetimes.plotting import plot_probability_alive_matrix\n",
    "\n",
    "plot_probability_alive_matrix(bgf)"
   ]
  },
  {
   "cell_type": "markdown",
   "id": "f251e712",
   "metadata": {},
   "source": [
    "Probability that customer is still 'alive'"
   ]
  },
  {
   "cell_type": "code",
   "execution_count": 22,
   "id": "43f19b84",
   "metadata": {},
   "outputs": [],
   "source": [
    "#Model expects Frequency greater than Zero\n",
    "data_repeat = data_cleaned[data_cleaned.Frequency>0]"
   ]
  },
  {
   "cell_type": "code",
   "execution_count": 23,
   "id": "38f65489",
   "metadata": {},
   "outputs": [
    {
     "data": {
      "text/plain": [
       "<lifetimes.GammaGammaFitter: fitted with 2998 subjects, p: 0.06, q: 2.15, v: 23340.09>"
      ]
     },
     "execution_count": 23,
     "metadata": {},
     "output_type": "execute_result"
    }
   ],
   "source": [
    "ggf = GammaGammaFitter(penalizer_coef=0.0)\n",
    "ggf.fit(data_repeat.Frequency, data_repeat.MonetaryValue)"
   ]
  },
  {
   "cell_type": "markdown",
   "id": "86b1ad91",
   "metadata": {},
   "source": [
    "#### Fit the Model"
   ]
  },
  {
   "cell_type": "code",
   "execution_count": 24,
   "id": "5e89147d",
   "metadata": {},
   "outputs": [
    {
     "name": "stdout",
     "output_type": "stream",
     "text": [
      "1    1639.844\n",
      "2     795.791\n",
      "3    1009.505\n",
      "4    1109.358\n",
      "5     902.667\n",
      "6    5559.435\n",
      "7    1183.512\n",
      "8     856.347\n",
      "9    1291.756\n",
      "10    723.188\n",
      "dtype: float64\n"
     ]
    }
   ],
   "source": [
    "print(ggf.conditional_expected_average_profit(\n",
    "        data_cleaned['Frequency'],\n",
    "        data_cleaned['MonetaryValue']\n",
    "    ).head(10))"
   ]
  },
  {
   "cell_type": "markdown",
   "id": "fe7dc1bc",
   "metadata": {},
   "source": [
    "#### Expected Average Profit"
   ]
  },
  {
   "cell_type": "code",
   "execution_count": 25,
   "id": "33ee9da4",
   "metadata": {},
   "outputs": [
    {
     "name": "stdout",
     "output_type": "stream",
     "text": [
      "Expected conditional average profit: 1368.4752215617332, Average profit: 1074.315536112935\n"
     ]
    }
   ],
   "source": [
    "print('Expected conditional average profit: %s, Average profit: %s' % (\n",
    "    ggf.conditional_expected_average_profit(\n",
    "        data_cleaned['Frequency'],\n",
    "        data_cleaned['MonetaryValue']\n",
    "    ).mean(),\n",
    "    data[data['Frequency']>0]['MonetaryValue'].mean()\n",
    "))\n"
   ]
  },
  {
   "cell_type": "markdown",
   "id": "ede0ef9d",
   "metadata": {},
   "source": [
    "#### CLV for each customer"
   ]
  },
  {
   "cell_type": "code",
   "execution_count": 26,
   "id": "2ca8e8b0",
   "metadata": {},
   "outputs": [
    {
     "name": "stdout",
     "output_type": "stream",
     "text": [
      "1    213482.859\n",
      "2     13568.091\n",
      "3      6759.006\n",
      "4     66051.599\n",
      "5     16927.331\n",
      "6    758653.350\n",
      "7         0.000\n",
      "8      9640.990\n",
      "9         0.000\n",
      "10    17099.801\n",
      "Name: clv, dtype: float64\n"
     ]
    }
   ],
   "source": [
    "#Output just the first 10\n",
    "print(ggf.customer_lifetime_value(\n",
    "    bgf, #the model to use to predict the number of future transactions\n",
    "    data_cleaned['Frequency'],\n",
    "    data_cleaned['Recency'],\n",
    "    data_cleaned['Tenure'],\n",
    "    data_cleaned['MonetaryValue'],\n",
    "    time=12, # months\n",
    "    discount_rate=0.01 # monthly discount rate ~ 12.7% annually\n",
    ").head(10))"
   ]
  }
 ],
 "metadata": {
  "kernelspec": {
   "display_name": "Python 3 (ipykernel)",
   "language": "python",
   "name": "python3"
  },
  "language_info": {
   "codemirror_mode": {
    "name": "ipython",
    "version": 3
   },
   "file_extension": ".py",
   "mimetype": "text/x-python",
   "name": "python",
   "nbconvert_exporter": "python",
   "pygments_lexer": "ipython3",
   "version": "3.9.7"
  }
 },
 "nbformat": 4,
 "nbformat_minor": 5
}
